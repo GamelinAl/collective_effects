{
 "metadata": {
  "name": ""
 },
 "nbformat": 3,
 "nbformat_minor": 0,
 "worksheets": [
  {
   "cells": [
    {
     "cell_type": "code",
     "collapsed": false,
     "input": [
      "import sys\n",
      "sys.path.append('/home/fac_files/code/collective_effects/')\n",
      "%load_ext autoreload\n",
      "%autoreload 1"
     ],
     "language": "python",
     "metadata": {},
     "outputs": [],
     "prompt_number": 6
    },
    {
     "cell_type": "code",
     "collapsed": false,
     "input": [
      "import numpy as np\n",
      "import matplotlib.pyplot as plt\n",
      "import timeit\n",
      "mu0 = 4*np.pi*1e-7\n",
      "c   = 299792458\n",
      "ep0 = 1/c**2/mu0"
     ],
     "language": "python",
     "metadata": {},
     "outputs": [],
     "prompt_number": 15
    },
    {
     "cell_type": "code",
     "collapsed": false,
     "input": [
      "%aimport collective_effects\n",
      "%aimport impedances"
     ],
     "language": "python",
     "metadata": {},
     "outputs": [],
     "prompt_number": 16
    },
    {
     "cell_type": "code",
     "collapsed": false,
     "input": [
      "ring = collective_effects.Ring()"
     ],
     "language": "python",
     "metadata": {},
     "outputs": [],
     "prompt_number": 171
    },
    {
     "cell_type": "code",
     "collapsed": false,
     "input": [
      "w       = np.logspace(4,12.4,3000)\n",
      "w       = np.array([-np.flipud(w),w]).ravel()\n",
      "\n",
      "epb     = np.array([1, 1, 1, 1])\n",
      "mub     = np.array([1, 1, 1, 1])\n",
      "ange    = np.array([0, 0, 0, 0])\n",
      "angm    = np.array([0, 0, 0, 0])\n",
      "sigmadc = np.array([0, 4e6, 5.9e7, 1])\n",
      "tau     = np.array([0, 0, 1, 0],dtype=float) * 27e-15\n",
      "b       = np.array([12.000, 12.001, 13.000])*1e-3\n",
      "L       = 480\n",
      "   \n",
      "epr = np.zeros((len(epb),len(w)),dtype=complex)\n",
      "mur = np.zeros((len(epb),len(w)),dtype=complex)\n",
      "for j in range(len(epb)):\n",
      "    epr[j,:] = epb[j]*(1-1j*np.sign(w)*np.tan(ange[j])) + sigmadc[j]/(1+1j*w*tau[j])/(1j*w*ep0)\n",
      "    mur[j,:] = mub[j]*(1-1j*np.sign(w)*np.tan(angm[j]))\n",
      "\n",
      "Zl, Zv, Zh = impedances.resistive_multilayer_round_pipe(w,epr,mur,b,L,ring.E)"
     ],
     "language": "python",
     "metadata": {},
     "outputs": [],
     "prompt_number": 204
    },
    {
     "cell_type": "code",
     "collapsed": false,
     "input": [
      "Zl = impedances.longitudinal_resonator(np.array([7e3]),np.array([1]),np.array([10e9]),w)"
     ],
     "language": "python",
     "metadata": {},
     "outputs": [],
     "prompt_number": 193
    },
    {
     "cell_type": "code",
     "collapsed": false,
     "input": [
      "plt.loglog(w,Zv.real)\n",
      "plt.loglog(w,-Zv.imag)\n",
      "plt.show()"
     ],
     "language": "python",
     "metadata": {},
     "outputs": [],
     "prompt_number": 189
    },
    {
     "cell_type": "code",
     "collapsed": false,
     "input": [
      "delta = ring.longitudinal_mode_coupling(w,Zl,n_rad=12,n_azi=12,mu = 0)"
     ],
     "language": "python",
     "metadata": {},
     "outputs": [],
     "prompt_number": 208
    },
    {
     "cell_type": "code",
     "collapsed": false,
     "input": [
      "gr = np.array(delta.imag)\n",
      "gr.sort(axis=1)\n",
      "tush = np.array(delta.real)\n",
      "tush.sort(axis=1)"
     ],
     "language": "python",
     "metadata": {},
     "outputs": [],
     "prompt_number": 209
    },
    {
     "cell_type": "code",
     "collapsed": false,
     "input": [
      "plt.plot(ring.cur_bun,tush)\n",
      "plt.show()"
     ],
     "language": "python",
     "metadata": {},
     "outputs": [],
     "prompt_number": 210
    },
    {
     "cell_type": "code",
     "collapsed": false,
     "input": [
      "a = np.array([np.arange(0,4),np.arange(4,8),np.arange(8,12),np.arange(12,16)]).T\n",
      "a = a.reshape([2,2,2,2])\n",
      "a\n",
      "a.swapaxes(0,1)"
     ],
     "language": "python",
     "metadata": {},
     "outputs": [
      {
       "metadata": {},
       "output_type": "pyout",
       "prompt_number": 140,
       "text": [
        "array([[[[ 0,  4],\n",
        "         [ 8, 12]],\n",
        "\n",
        "        [[ 2,  6],\n",
        "         [10, 14]]],\n",
        "\n",
        "\n",
        "       [[[ 1,  5],\n",
        "         [ 9, 13]],\n",
        "\n",
        "        [[ 3,  7],\n",
        "         [11, 15]]]])"
       ]
      }
     ],
     "prompt_number": 140
    },
    {
     "cell_type": "code",
     "collapsed": false,
     "input": [],
     "language": "python",
     "metadata": {},
     "outputs": []
    }
   ],
   "metadata": {}
  }
 ]
}