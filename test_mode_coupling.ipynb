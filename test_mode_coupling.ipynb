{
 "metadata": {
  "name": ""
 },
 "nbformat": 3,
 "nbformat_minor": 0,
 "worksheets": [
  {
   "cells": [
    {
     "cell_type": "code",
     "collapsed": false,
     "input": [
      "import sys\n",
      "sys.path.append('/home/fac_files/code/collective_effects/')\n",
      "%load_ext autoreload\n",
      "%autoreload 1"
     ],
     "language": "python",
     "metadata": {},
     "outputs": [],
     "prompt_number": 1
    },
    {
     "cell_type": "code",
     "collapsed": false,
     "input": [
      "import numpy as np\n",
      "import matplotlib.pyplot as plt\n",
      "import timeit\n",
      "import cProfile\n",
      "mu0 = 4*np.pi*1e-7\n",
      "c   = 299792458\n",
      "ep0 = 1/c**2/mu0"
     ],
     "language": "python",
     "metadata": {},
     "outputs": [],
     "prompt_number": 13
    },
    {
     "cell_type": "code",
     "collapsed": false,
     "input": [
      "%aimport collective_effects\n",
      "%aimport impedances"
     ],
     "language": "python",
     "metadata": {},
     "outputs": [],
     "prompt_number": 3
    },
    {
     "cell_type": "code",
     "collapsed": false,
     "input": [
      "ring = collective_effects.Ring()"
     ],
     "language": "python",
     "metadata": {},
     "outputs": [],
     "prompt_number": 57
    },
    {
     "cell_type": "code",
     "collapsed": false,
     "input": [
      "w       = np.logspace(4,12.4,3000)\n",
      "w       = np.array([-np.flipud(w),w]).ravel()\n",
      "\n",
      "epb     = np.array([1, 1, 1, 1])\n",
      "mub     = np.array([1, 1, 1, 1])\n",
      "ange    = np.array([0, 0, 0, 0])\n",
      "angm    = np.array([0, 0, 0, 0])\n",
      "sigmadc = np.array([0, 4e6, 5.9e7, 1])\n",
      "tau     = np.array([0, 0, 1, 0],dtype=float) * 27e-15\n",
      "b       = np.array([12.000, 12.001, 13.000])*1e-3\n",
      "L       = 480\n",
      "   \n",
      "epr = np.zeros((len(epb),len(w)),dtype=complex)\n",
      "mur = np.zeros((len(epb),len(w)),dtype=complex)\n",
      "for j in range(len(epb)):\n",
      "    epr[j,:] = epb[j]*(1-1j*np.sign(w)*np.tan(ange[j])) + sigmadc[j]/(1+1j*w*tau[j])/(1j*w*ep0)\n",
      "    mur[j,:] = mub[j]*(1-1j*np.sign(w)*np.tan(angm[j]))\n",
      "\n",
      "Zl, Zv, Zh = impedances.resistive_multilayer_round_pipe(w,epr,mur,b,L,ring.E)"
     ],
     "language": "python",
     "metadata": {},
     "outputs": [],
     "prompt_number": 5
    },
    {
     "cell_type": "code",
     "collapsed": false,
     "input": [
      "Zl = impedances.longitudinal_resonator(np.array([7e3]),np.array([1]),np.array([10e9]),w)\n",
      "Zv = impedances.transverse_resonator(np.array([10e6]),np.array([1]),np.array([20e9]),w)"
     ],
     "language": "python",
     "metadata": {},
     "outputs": [],
     "prompt_number": 136
    },
    {
     "cell_type": "code",
     "collapsed": false,
     "input": [
      "plt.loglog(w,Zv.real)\n",
      "plt.loglog(w,-Zv.imag)\n",
      "plt.show()"
     ],
     "language": "python",
     "metadata": {},
     "outputs": [],
     "prompt_number": 189
    },
    {
     "cell_type": "code",
     "collapsed": false,
     "input": [
      "#%timeit -r 1 delta = ring.longitudinal_mode_coupling(w,Zl,n_rad=12,n_azi=12,mu = 0)\n",
      "ring.nbun = 864\n",
      "#cProfile.run(\"delta = ring.longitudinal_mode_coupling(w,Zl,n_rad=4,n_azi=3,mu = 0)\")\n",
      "#cProfile.run(\"delta = ring.transverse_mode_coupling(w,Zv,n_rad=4,n_azi=3,mu = 0)\")\n",
      "delta = ring.transverse_mode_coupling(w,Zv,n_rad=4,n_azi=3,mu = 0)"
     ],
     "language": "python",
     "metadata": {},
     "outputs": [],
     "prompt_number": 189
    },
    {
     "cell_type": "code",
     "collapsed": false,
     "input": [
      "gr = np.array(delta.imag)\n",
      "gr.sort(axis=1)\n",
      "tush = np.array(delta.real)\n",
      "tush.sort(axis=1)"
     ],
     "language": "python",
     "metadata": {},
     "outputs": [],
     "prompt_number": 190
    },
    {
     "cell_type": "code",
     "collapsed": false,
     "input": [
      "plt.plot(ring.cur_bun,tush)\n",
      "plt.show()"
     ],
     "language": "python",
     "metadata": {},
     "outputs": [],
     "prompt_number": 191
    },
    {
     "cell_type": "code",
     "collapsed": false,
     "input": [
      "n_rad, n_azi = 1, 1\n",
      "\n",
      "a = np.zeros([2*n_azi+1,n_rad+1,2*n_azi+1,n_rad+1])\n",
      "b = np.zeros([(2*n_azi+1)*(n_rad+1),(2*n_azi+1)*(n_rad+1)])\n",
      "i=0\n",
      "for m in range(n_azi+1):\n",
      "    for k in range(n_rad+1):\n",
      "        for n in range(n_azi+1):\n",
      "            for l in range(n_rad+1):\n",
      "                a[n_azi+m,k,n_azi+n,l] = i\n",
      "                b[n_azi+m +k*(2*n_azi+1),n_azi+n +l*(2*n_azi+1)] = i\n",
      "                i+=1\n",
      "                a[n_azi+m,k,n_azi-n,l] = i\n",
      "                b[n_azi+m +k*(2*n_azi+1),n_azi-n +l*(2*n_azi+1)] = i\n",
      "                i+=1\n",
      "                a[n_azi-m,k,n_azi-n,l] = i\n",
      "                b[n_azi-m +k*(2*n_azi+1),n_azi-n +l*(2*n_azi+1)] = i\n",
      "                i+=1\n",
      "a.swapaxes(0,3).swapaxes(1,2).reshape([(n_rad+1)*(2*n_azi+1),(n_rad+1)*(2*n_azi+1)]).transpose()"
     ],
     "language": "python",
     "metadata": {},
     "outputs": [
      {
       "metadata": {},
       "output_type": "pyout",
       "prompt_number": 166,
       "text": [
        "array([[ 32.,  26.,   0.,  35.,  29.,   0.],\n",
        "       [  8.,   2.,   6.,  11.,   5.,   9.],\n",
        "       [ 31.,  25.,  30.,  34.,  28.,  33.],\n",
        "       [ 44.,  38.,   0.,  47.,  41.,   0.],\n",
        "       [ 20.,  14.,  18.,  23.,  17.,  21.],\n",
        "       [ 43.,  37.,  42.,  46.,  40.,  45.]])"
       ]
      }
     ],
     "prompt_number": 166
    },
    {
     "cell_type": "code",
     "collapsed": false,
     "input": [
      "b"
     ],
     "language": "python",
     "metadata": {},
     "outputs": [
      {
       "metadata": {},
       "output_type": "pyout",
       "prompt_number": 167,
       "text": [
        "array([[ 32.,  26.,   0.,  35.,  29.,   0.],\n",
        "       [  8.,   2.,   6.,  11.,   5.,   9.],\n",
        "       [ 31.,  25.,  30.,  34.,  28.,  33.],\n",
        "       [ 44.,  38.,   0.,  47.,  41.,   0.],\n",
        "       [ 20.,  14.,  18.,  23.,  17.,  21.],\n",
        "       [ 43.,  37.,  42.,  46.,  40.,  45.]])"
       ]
      }
     ],
     "prompt_number": 167
    },
    {
     "cell_type": "code",
     "collapsed": false,
     "input": [
      "swap_reshape = lambda A: A.swapaxes(0,3).swapaxes(1,2).reshape([(n_rad+1)*(2*n_azi+1),(n_rad+1)*(2*n_azi+1)]).transpose()\n",
      "#%timeit c = swap_reshape(a)\n",
      "#%timeit c = a.swapaxes(0,3).swapaxes(1,2).reshape([(n_rad+1)*(2*n_azi+1),(n_rad+1)*(2*n_azi+1)]).transpose()"
     ],
     "language": "python",
     "metadata": {},
     "outputs": [],
     "prompt_number": 184
    },
    {
     "cell_type": "code",
     "collapsed": false,
     "input": [],
     "language": "python",
     "metadata": {},
     "outputs": [
      {
       "metadata": {},
       "output_type": "pyout",
       "prompt_number": 185,
       "text": [
        "True"
       ]
      }
     ],
     "prompt_number": 185
    },
    {
     "cell_type": "code",
     "collapsed": false,
     "input": [],
     "language": "python",
     "metadata": {},
     "outputs": []
    }
   ],
   "metadata": {}
  }
 ]
}