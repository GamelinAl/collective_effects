{
 "cells": [
  {
   "cell_type": "code",
   "execution_count": 1,
   "metadata": {
    "collapsed": false
   },
   "outputs": [],
   "source": [
    "import sys\n",
    "sys.path.append('/home/fac_files/code/collective_effects/')\n",
    "%load_ext autoreload\n",
    "%autoreload 1"
   ]
  },
  {
   "cell_type": "code",
   "execution_count": 2,
   "metadata": {
    "collapsed": false
   },
   "outputs": [],
   "source": [
    "import numpy as np\n",
    "import matplotlib.pyplot as plt\n",
    "import timeit\n",
    "import cProfile\n",
    "mu0 = 4*np.pi*1e-7\n",
    "c   = 299792458\n",
    "ep0 = 1/c**2/mu0"
   ]
  },
  {
   "cell_type": "code",
   "execution_count": 4,
   "metadata": {
    "collapsed": false
   },
   "outputs": [],
   "source": [
    "%aimport collective_effects\n",
    "%aimport impedances"
   ]
  },
  {
   "cell_type": "code",
   "execution_count": 5,
   "metadata": {
    "collapsed": false
   },
   "outputs": [],
   "source": [
    "ring = collective_effects.Ring()"
   ]
  },
  {
   "cell_type": "code",
   "execution_count": 8,
   "metadata": {
    "collapsed": false
   },
   "outputs": [],
   "source": [
    "w       = np.logspace(4,12.4,3000)\n",
    "w       = np.array([-np.flipud(w),w]).ravel()\n",
    "\n",
    "epb     = np.array([1, 1, 1, 1])\n",
    "mub     = np.array([1, 1, 1, 1])\n",
    "ange    = np.array([0, 0, 0, 0])\n",
    "angm    = np.array([0, 0, 0, 0])\n",
    "sigmadc = np.array([0, 4e6, 5.9e7, 1])\n",
    "tau     = np.array([0, 0, 1, 0],dtype=float) * 27e-15\n",
    "epr,mur = impedances._prepare_input_epr_mur(w,epb,mub,ange,angm,sigmadc,tau)\n",
    "\n",
    "b       = np.array([12.000, 12.001, 13.000])*1e-3\n",
    "L       = 480\n",
    "   \n",
    "Zl, Zv, Zh = impedances.resistive_multilayer_round_pipe(w,epr,mur,b,L,ring.E)"
   ]
  },
  {
   "cell_type": "code",
   "execution_count": 9,
   "metadata": {
    "collapsed": false
   },
   "outputs": [],
   "source": [
    "Zl = impedances.longitudinal_resonator(np.array([7e3]),np.array([1]),np.array([10e9]),w)\n",
    "Zv = impedances.transverse_resonator(np.array([10e6]),np.array([1]),np.array([20e9]),w)"
   ]
  },
  {
   "cell_type": "code",
   "execution_count": 11,
   "metadata": {
    "collapsed": false
   },
   "outputs": [
    {
     "name": "stderr",
     "output_type": "stream",
     "text": [
      "/usr/local/lib/python3.4/dist-packages/matplotlib/backends/backend_gtk3.py:215: Warning: Source ID 295 was not found when attempting to remove it\n",
      "  GLib.source_remove(self._idle_event_id)\n"
     ]
    }
   ],
   "source": [
    "plt.loglog(w,Zv.real,'b')\n",
    "plt.loglog(w,Zv.imag,'g')\n",
    "plt.loglog(w,-Zv.imag,'g--')\n",
    "plt.show()"
   ]
  },
  {
   "cell_type": "code",
   "execution_count": 12,
   "metadata": {
    "collapsed": false
   },
   "outputs": [],
   "source": [
    "#%timeit -r 1 delta = ring.longitudinal_mode_coupling(w,Zl,n_rad=12,n_azi=12,mu = 0)\n",
    "ring.nbun = 864\n",
    "#cProfile.run(\"delta = ring.longitudinal_mode_coupling(w,Zl,n_rad=4,n_azi=3,mu = 0)\")\n",
    "#cProfile.run(\"delta = ring.transverse_mode_coupling(w,Zv,n_rad=4,n_azi=3,mu = 0)\")\n",
    "delta = ring.transverse_mode_coupling(w,Zv,n_rad=4,n_azi=3,mu = 0)"
   ]
  },
  {
   "cell_type": "code",
   "execution_count": 13,
   "metadata": {
    "collapsed": false
   },
   "outputs": [],
   "source": [
    "gr = np.array(delta.imag)\n",
    "gr.sort(axis=1)\n",
    "tush = np.array(delta.real)\n",
    "tush.sort(axis=1)"
   ]
  },
  {
   "cell_type": "code",
   "execution_count": 16,
   "metadata": {
    "collapsed": false
   },
   "outputs": [
    {
     "name": "stderr",
     "output_type": "stream",
     "text": [
      "/usr/local/lib/python3.4/dist-packages/matplotlib/backends/backend_gtk3.py:215: Warning: Source ID 1334 was not found when attempting to remove it\n",
      "  GLib.source_remove(self._idle_event_id)\n"
     ]
    }
   ],
   "source": [
    "plt.plot(ring.cur_bun,tush)\n",
    "plt.show()"
   ]
  },
  {
   "cell_type": "code",
   "execution_count": 166,
   "metadata": {
    "collapsed": false
   },
   "outputs": [
    {
     "data": {
      "text/plain": [
       "array([[ 32.,  26.,   0.,  35.,  29.,   0.],\n",
       "       [  8.,   2.,   6.,  11.,   5.,   9.],\n",
       "       [ 31.,  25.,  30.,  34.,  28.,  33.],\n",
       "       [ 44.,  38.,   0.,  47.,  41.,   0.],\n",
       "       [ 20.,  14.,  18.,  23.,  17.,  21.],\n",
       "       [ 43.,  37.,  42.,  46.,  40.,  45.]])"
      ]
     },
     "execution_count": 166,
     "metadata": {},
     "output_type": "execute_result"
    }
   ],
   "source": [
    "n_rad, n_azi = 1, 1\n",
    "\n",
    "a = np.zeros([2*n_azi+1,n_rad+1,2*n_azi+1,n_rad+1])\n",
    "b = np.zeros([(2*n_azi+1)*(n_rad+1),(2*n_azi+1)*(n_rad+1)])\n",
    "i=0\n",
    "for m in range(n_azi+1):\n",
    "    for k in range(n_rad+1):\n",
    "        for n in range(n_azi+1):\n",
    "            for l in range(n_rad+1):\n",
    "                a[n_azi+m,k,n_azi+n,l] = i\n",
    "                b[n_azi+m +k*(2*n_azi+1),n_azi+n +l*(2*n_azi+1)] = i\n",
    "                i+=1\n",
    "                a[n_azi+m,k,n_azi-n,l] = i\n",
    "                b[n_azi+m +k*(2*n_azi+1),n_azi-n +l*(2*n_azi+1)] = i\n",
    "                i+=1\n",
    "                a[n_azi-m,k,n_azi-n,l] = i\n",
    "                b[n_azi-m +k*(2*n_azi+1),n_azi-n +l*(2*n_azi+1)] = i\n",
    "                i+=1\n",
    "a.swapaxes(0,3).swapaxes(1,2).reshape([(n_rad+1)*(2*n_azi+1),(n_rad+1)*(2*n_azi+1)]).transpose()"
   ]
  },
  {
   "cell_type": "code",
   "execution_count": 167,
   "metadata": {
    "collapsed": false
   },
   "outputs": [
    {
     "data": {
      "text/plain": [
       "array([[ 32.,  26.,   0.,  35.,  29.,   0.],\n",
       "       [  8.,   2.,   6.,  11.,   5.,   9.],\n",
       "       [ 31.,  25.,  30.,  34.,  28.,  33.],\n",
       "       [ 44.,  38.,   0.,  47.,  41.,   0.],\n",
       "       [ 20.,  14.,  18.,  23.,  17.,  21.],\n",
       "       [ 43.,  37.,  42.,  46.,  40.,  45.]])"
      ]
     },
     "execution_count": 167,
     "metadata": {},
     "output_type": "execute_result"
    }
   ],
   "source": [
    "b"
   ]
  },
  {
   "cell_type": "code",
   "execution_count": 184,
   "metadata": {
    "collapsed": false
   },
   "outputs": [],
   "source": [
    "swap_reshape = lambda A: A.swapaxes(0,3).swapaxes(1,2).reshape([(n_rad+1)*(2*n_azi+1),(n_rad+1)*(2*n_azi+1)]).transpose()\n",
    "#%timeit c = swap_reshape(a)\n",
    "#%timeit c = a.swapaxes(0,3).swapaxes(1,2).reshape([(n_rad+1)*(2*n_azi+1),(n_rad+1)*(2*n_azi+1)]).transpose()"
   ]
  },
  {
   "cell_type": "code",
   "execution_count": 185,
   "metadata": {
    "collapsed": false
   },
   "outputs": [
    {
     "data": {
      "text/plain": [
       "True"
      ]
     },
     "execution_count": 185,
     "metadata": {},
     "output_type": "execute_result"
    }
   ],
   "source": []
  },
  {
   "cell_type": "code",
   "execution_count": null,
   "metadata": {
    "collapsed": false
   },
   "outputs": [],
   "source": []
  }
 ],
 "metadata": {
  "kernelspec": {
   "display_name": "Python 3",
   "language": "python",
   "name": "python3"
  },
  "language_info": {
   "codemirror_mode": {
    "name": "ipython",
    "version": 3
   },
   "file_extension": ".py",
   "mimetype": "text/x-python",
   "name": "python",
   "nbconvert_exporter": "python",
   "pygments_lexer": "ipython3",
   "version": "3.4.0"
  }
 },
 "nbformat": 4,
 "nbformat_minor": 0
}
